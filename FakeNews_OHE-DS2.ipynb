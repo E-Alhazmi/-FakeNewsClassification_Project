{
 "cells": [
  {
   "cell_type": "markdown",
   "metadata": {},
   "source": [
    "### One-hot Encoding  Machine Learning Performance"
   ]
  },
  {
   "cell_type": "code",
   "execution_count": 22,
   "metadata": {},
   "outputs": [],
   "source": [
    "import re\n",
    "import pandas as pd\n",
    "import numpy as np\n",
    "import itertools\n",
    "import matplotlib.pyplot as plt\n",
    "from nltk.corpus import stopwords\n",
    "from nltk.stem.porter import PorterStemmer\n",
    "from sklearn import metrics\n",
    "from tensorflow.keras.preprocessing.text import one_hot\n",
    "from tensorflow.keras.preprocessing.sequence import pad_sequences\n",
    "from sklearn.metrics import classification_report\n",
    "from sklearn.model_selection import cross_val_score\n",
    "from sklearn.model_selection import train_test_split\n",
    "from sklearn.model_selection import GridSearchCV"
   ]
  },
  {
   "cell_type": "code",
   "execution_count": 67,
   "metadata": {},
   "outputs": [],
   "source": [
    "def plot_confusion_matrix(cm, classes,\n",
    "                          normalize=False,\n",
    "                          title='Confusion matrix',\n",
    "                          cmap=plt.cm.Blues):\n",
    "    plt.imshow(cm, interpolation='nearest', cmap=cmap)\n",
    "    plt.title(title)\n",
    "    plt.colorbar()\n",
    "    tick_marks = np.arange(len(classes))\n",
    "    plt.xticks(tick_marks, classes, rotation=45)\n",
    "    plt.yticks(tick_marks, classes)\n",
    "\n",
    "    if normalize:\n",
    "        cm = cm.astype('float') / cm.sum(axis=1)[:, np.newaxis]\n",
    "        print(\"Normalized confusion matrix\")\n",
    "    else:\n",
    "        print('Confusion matrix, without normalization')\n",
    "\n",
    "    thresh = cm.max() / 2.\n",
    "    for i, j in itertools.product(range(cm.shape[0]), range(cm.shape[1])):\n",
    "        plt.text(j, i, cm[i, j],\n",
    "                 horizontalalignment=\"center\",\n",
    "                 color=\"white\" if cm[i, j] > thresh else \"black\")\n",
    "\n",
    "    plt.tight_layout()\n",
    "    plt.ylabel('True label')\n",
    "    plt.xlabel('Predicted label')"
   ]
  },
  {
   "cell_type": "markdown",
   "metadata": {},
   "source": [
    "### Load Data\n",
    "\n",
    "URL : https://www.kaggle.com/jruvika/fake-news-detection"
   ]
  },
  {
   "cell_type": "code",
   "execution_count": 3,
   "metadata": {},
   "outputs": [
    {
     "data": {
      "text/plain": [
       "(4009, 4)"
      ]
     },
     "execution_count": 3,
     "metadata": {},
     "output_type": "execute_result"
    }
   ],
   "source": [
    "#Read Data\n",
    "df=pd.read_csv('data.csv')\n",
    "df.shape"
   ]
  },
  {
   "cell_type": "code",
   "execution_count": 4,
   "metadata": {},
   "outputs": [
    {
     "data": {
      "text/html": [
       "<div>\n",
       "<style scoped>\n",
       "    .dataframe tbody tr th:only-of-type {\n",
       "        vertical-align: middle;\n",
       "    }\n",
       "\n",
       "    .dataframe tbody tr th {\n",
       "        vertical-align: top;\n",
       "    }\n",
       "\n",
       "    .dataframe thead th {\n",
       "        text-align: right;\n",
       "    }\n",
       "</style>\n",
       "<table border=\"1\" class=\"dataframe\">\n",
       "  <thead>\n",
       "    <tr style=\"text-align: right;\">\n",
       "      <th></th>\n",
       "      <th>URLs</th>\n",
       "      <th>Headline</th>\n",
       "      <th>Body</th>\n",
       "      <th>Label</th>\n",
       "    </tr>\n",
       "  </thead>\n",
       "  <tbody>\n",
       "    <tr>\n",
       "      <th>0</th>\n",
       "      <td>http://www.bbc.com/news/world-us-canada-414191...</td>\n",
       "      <td>Four ways Bob Corker skewered Donald Trump</td>\n",
       "      <td>Image copyright Getty Images\\nOn Sunday mornin...</td>\n",
       "      <td>1</td>\n",
       "    </tr>\n",
       "    <tr>\n",
       "      <th>1</th>\n",
       "      <td>https://www.reuters.com/article/us-filmfestiva...</td>\n",
       "      <td>Linklater's war veteran comedy speaks to moder...</td>\n",
       "      <td>LONDON (Reuters) - “Last Flag Flying”, a comed...</td>\n",
       "      <td>1</td>\n",
       "    </tr>\n",
       "    <tr>\n",
       "      <th>2</th>\n",
       "      <td>https://www.nytimes.com/2017/10/09/us/politics...</td>\n",
       "      <td>Trump’s Fight With Corker Jeopardizes His Legi...</td>\n",
       "      <td>The feud broke into public view last week when...</td>\n",
       "      <td>1</td>\n",
       "    </tr>\n",
       "    <tr>\n",
       "      <th>3</th>\n",
       "      <td>https://www.reuters.com/article/us-mexico-oil-...</td>\n",
       "      <td>Egypt's Cheiron wins tie-up with Pemex for Mex...</td>\n",
       "      <td>MEXICO CITY (Reuters) - Egypt’s Cheiron Holdin...</td>\n",
       "      <td>1</td>\n",
       "    </tr>\n",
       "    <tr>\n",
       "      <th>4</th>\n",
       "      <td>http://www.cnn.com/videos/cnnmoney/2017/10/08/...</td>\n",
       "      <td>Jason Aldean opens 'SNL' with Vegas tribute</td>\n",
       "      <td>Country singer Jason Aldean, who was performin...</td>\n",
       "      <td>1</td>\n",
       "    </tr>\n",
       "    <tr>\n",
       "      <th>5</th>\n",
       "      <td>http://beforeitsnews.com/sports/2017/09/jetnat...</td>\n",
       "      <td>JetNation FanDuel League; Week 4</td>\n",
       "      <td>JetNation FanDuel League; Week 4\\n% of readers...</td>\n",
       "      <td>0</td>\n",
       "    </tr>\n",
       "    <tr>\n",
       "      <th>6</th>\n",
       "      <td>https://www.nytimes.com/2017/10/10/us/politics...</td>\n",
       "      <td>Kansas Tried a Tax Plan Similar to Trump’s. It...</td>\n",
       "      <td>In 2012, Kansas lawmakers, led by Gov. Sam Bro...</td>\n",
       "      <td>1</td>\n",
       "    </tr>\n",
       "    <tr>\n",
       "      <th>7</th>\n",
       "      <td>https://www.reuters.com/article/us-india-cenba...</td>\n",
       "      <td>India RBI chief: growth important, but not at ...</td>\n",
       "      <td>The Reserve Bank of India (RBI) Governor Urjit...</td>\n",
       "      <td>1</td>\n",
       "    </tr>\n",
       "    <tr>\n",
       "      <th>8</th>\n",
       "      <td>https://www.reuters.com/article/us-climatechan...</td>\n",
       "      <td>EPA chief to sign rule on Clean Power Plan exi...</td>\n",
       "      <td>Scott Pruitt, Administrator of the U.S. Enviro...</td>\n",
       "      <td>1</td>\n",
       "    </tr>\n",
       "    <tr>\n",
       "      <th>9</th>\n",
       "      <td>https://www.reuters.com/article/us-air-berlin-...</td>\n",
       "      <td>Talks on sale of Air Berlin planes to easyJet ...</td>\n",
       "      <td>FILE PHOTO - An Air Berlin sign is seen at an ...</td>\n",
       "      <td>1</td>\n",
       "    </tr>\n",
       "  </tbody>\n",
       "</table>\n",
       "</div>"
      ],
      "text/plain": [
       "                                                URLs  \\\n",
       "0  http://www.bbc.com/news/world-us-canada-414191...   \n",
       "1  https://www.reuters.com/article/us-filmfestiva...   \n",
       "2  https://www.nytimes.com/2017/10/09/us/politics...   \n",
       "3  https://www.reuters.com/article/us-mexico-oil-...   \n",
       "4  http://www.cnn.com/videos/cnnmoney/2017/10/08/...   \n",
       "5  http://beforeitsnews.com/sports/2017/09/jetnat...   \n",
       "6  https://www.nytimes.com/2017/10/10/us/politics...   \n",
       "7  https://www.reuters.com/article/us-india-cenba...   \n",
       "8  https://www.reuters.com/article/us-climatechan...   \n",
       "9  https://www.reuters.com/article/us-air-berlin-...   \n",
       "\n",
       "                                            Headline  \\\n",
       "0         Four ways Bob Corker skewered Donald Trump   \n",
       "1  Linklater's war veteran comedy speaks to moder...   \n",
       "2  Trump’s Fight With Corker Jeopardizes His Legi...   \n",
       "3  Egypt's Cheiron wins tie-up with Pemex for Mex...   \n",
       "4        Jason Aldean opens 'SNL' with Vegas tribute   \n",
       "5                   JetNation FanDuel League; Week 4   \n",
       "6  Kansas Tried a Tax Plan Similar to Trump’s. It...   \n",
       "7  India RBI chief: growth important, but not at ...   \n",
       "8  EPA chief to sign rule on Clean Power Plan exi...   \n",
       "9  Talks on sale of Air Berlin planes to easyJet ...   \n",
       "\n",
       "                                                Body  Label  \n",
       "0  Image copyright Getty Images\\nOn Sunday mornin...      1  \n",
       "1  LONDON (Reuters) - “Last Flag Flying”, a comed...      1  \n",
       "2  The feud broke into public view last week when...      1  \n",
       "3  MEXICO CITY (Reuters) - Egypt’s Cheiron Holdin...      1  \n",
       "4  Country singer Jason Aldean, who was performin...      1  \n",
       "5  JetNation FanDuel League; Week 4\\n% of readers...      0  \n",
       "6  In 2012, Kansas lawmakers, led by Gov. Sam Bro...      1  \n",
       "7  The Reserve Bank of India (RBI) Governor Urjit...      1  \n",
       "8  Scott Pruitt, Administrator of the U.S. Enviro...      1  \n",
       "9  FILE PHOTO - An Air Berlin sign is seen at an ...      1  "
      ]
     },
     "execution_count": 4,
     "metadata": {},
     "output_type": "execute_result"
    }
   ],
   "source": [
    "df.head(10)"
   ]
  },
  {
   "cell_type": "code",
   "execution_count": 5,
   "metadata": {},
   "outputs": [
    {
     "data": {
      "text/plain": [
       "(3988, 4)"
      ]
     },
     "execution_count": 5,
     "metadata": {},
     "output_type": "execute_result"
    }
   ],
   "source": [
    "# Drop Nan Value\n",
    "df=df.dropna()\n",
    "df.shape"
   ]
  },
  {
   "cell_type": "code",
   "execution_count": 6,
   "metadata": {},
   "outputs": [],
   "source": [
    "## Get the Independent Features\n",
    "X=df.drop('Label',axis=1)\n",
    "## Get the Dependent features\n",
    "y=df['Label']"
   ]
  },
  {
   "cell_type": "code",
   "execution_count": 7,
   "metadata": {},
   "outputs": [
    {
     "data": {
      "text/plain": [
       "(3988, 5)"
      ]
     },
     "execution_count": 7,
     "metadata": {},
     "output_type": "execute_result"
    }
   ],
   "source": [
    "messages=df.copy()\n",
    "messages.reset_index(inplace=True)\n",
    "messages.shape"
   ]
  },
  {
   "cell_type": "markdown",
   "metadata": {},
   "source": [
    "### Vocabulary Size"
   ]
  },
  {
   "cell_type": "code",
   "execution_count": 8,
   "metadata": {},
   "outputs": [],
   "source": [
    "### Vocabulary size\n",
    "voc_size=5000"
   ]
  },
  {
   "cell_type": "markdown",
   "metadata": {},
   "source": [
    "### Data Preprocessing"
   ]
  },
  {
   "cell_type": "code",
   "execution_count": 9,
   "metadata": {},
   "outputs": [],
   "source": [
    "# Data Preprocessing\n",
    "ps = PorterStemmer()\n",
    "corpus = []\n",
    "for i in range(0, len(messages)):\n",
    "    review = re.sub('[^a-zA-Z]', ' ', messages['Headline'][i])\n",
    "    review = review.lower()\n",
    "    review = review.split()\n",
    "    review = [ps.stem(word) for word in review if not word in stopwords.words('english')]\n",
    "    review = ' '.join(review)\n",
    "    corpus.append(review)"
   ]
  },
  {
   "cell_type": "code",
   "execution_count": 10,
   "metadata": {},
   "outputs": [],
   "source": [
    "## One hot Representation\n",
    "onehot_repr=[one_hot(words,voc_size)for words in corpus] \n",
    "#onehot_repr"
   ]
  },
  {
   "cell_type": "code",
   "execution_count": 11,
   "metadata": {},
   "outputs": [
    {
     "name": "stdout",
     "output_type": "stream",
     "text": [
      "392\n"
     ]
    }
   ],
   "source": [
    "#Sentence Length\n",
    "sent_length=0\n",
    "for review_number in range(len(corpus)):\n",
    "    number_of_words = len(corpus[review_number])\n",
    "    if(number_of_words) > sent_length:\n",
    "        sent_length = number_of_words\n",
    "print(sent_length)"
   ]
  },
  {
   "cell_type": "code",
   "execution_count": 12,
   "metadata": {},
   "outputs": [
    {
     "name": "stdout",
     "output_type": "stream",
     "text": [
      "[[   0    0    0 ...   60 3662 1759]\n",
      " [   0    0    0 ... 1247 3435 4415]\n",
      " [   0    0    0 ... 4700 4069 4230]\n",
      " ...\n",
      " [   0    0    0 ...   62 2256  609]\n",
      " [   0    0    0 ...   53  537  573]\n",
      " [   0    0    0 ... 2138 3564 1935]]\n"
     ]
    }
   ],
   "source": [
    "embedded_docs=pad_sequences(onehot_repr,padding='pre',maxlen=sent_length)\n",
    "print(embedded_docs)"
   ]
  },
  {
   "cell_type": "code",
   "execution_count": 13,
   "metadata": {},
   "outputs": [],
   "source": [
    "X_final=np.array(embedded_docs)\n",
    "y_final=np.array(y)"
   ]
  },
  {
   "cell_type": "code",
   "execution_count": 14,
   "metadata": {},
   "outputs": [
    {
     "data": {
      "text/plain": [
       "(3988, 392)"
      ]
     },
     "execution_count": 14,
     "metadata": {},
     "output_type": "execute_result"
    }
   ],
   "source": [
    "X_final.shape"
   ]
  },
  {
   "cell_type": "code",
   "execution_count": 15,
   "metadata": {},
   "outputs": [
    {
     "data": {
      "text/plain": [
       "(3988,)"
      ]
     },
     "execution_count": 15,
     "metadata": {},
     "output_type": "execute_result"
    }
   ],
   "source": [
    "y_final.shape"
   ]
  },
  {
   "cell_type": "markdown",
   "metadata": {},
   "source": [
    "### Data Split"
   ]
  },
  {
   "cell_type": "code",
   "execution_count": 16,
   "metadata": {},
   "outputs": [],
   "source": [
    "X_train, X_test, y_train, y_test = train_test_split(X_final, y_final, test_size=0.20, random_state=0)"
   ]
  },
  {
   "cell_type": "markdown",
   "metadata": {},
   "source": [
    "# Machine Learning Algorithms\n",
    "\n",
    "## Naive Bayes  : BernoulliNB"
   ]
  },
  {
   "cell_type": "code",
   "execution_count": 17,
   "metadata": {},
   "outputs": [
    {
     "name": "stdout",
     "output_type": "stream",
     "text": [
      "accuracy:   0.568\n",
      "Confusion matrix, without normalization\n",
      "              precision    recall  f1-score   support\n",
      "\n",
      "           0       0.71      0.35      0.47       434\n",
      "           1       0.52      0.83      0.64       364\n",
      "\n",
      "    accuracy                           0.57       798\n",
      "   macro avg       0.61      0.59      0.55       798\n",
      "weighted avg       0.62      0.57      0.54       798\n",
      "\n"
     ]
    },
    {
     "data": {
      "image/png": "[encoded data removed]",
      "text/plain": [
       "<Figure size 432x288 with 2 Axes>"
      ]
     },
     "metadata": {
      "needs_background": "light"
     },
     "output_type": "display_data"
    }
   ],
   "source": [
    "from sklearn.naive_bayes import BernoulliNB\n",
    "bern=BernoulliNB(alpha = 0.01)\n",
    "bern.fit(X_train, y_train)\n",
    "pred_bern = bern.predict(X_test)\n",
    "score_bern = metrics.accuracy_score(y_test, pred_bern)\n",
    "print(\"accuracy:   %0.3f\" % score_bern)\n",
    "cm_bern = metrics.confusion_matrix(y_test, pred_bern)\n",
    "plot_confusion_matrix(cm_bern ,classes=['FAKE', 'REAL'])\n",
    "print(classification_report(y_test, pred_bern))\n"
   ]
  },
  {
   "cell_type": "markdown",
   "metadata": {},
   "source": [
    "### Logistic Regression"
   ]
  },
  {
   "cell_type": "code",
   "execution_count": 64,
   "metadata": {},
   "outputs": [
    {
     "name": "stdout",
     "output_type": "stream",
     "text": [
      "accuracy:   0.580201\n",
      "Confusion matrix, without normalization\n",
      "              precision    recall  f1-score   support\n",
      "\n",
      "           0       0.62      0.60      0.61       434\n",
      "           1       0.54      0.55      0.55       364\n",
      "\n",
      "    accuracy                           0.58       798\n",
      "   macro avg       0.58      0.58      0.58       798\n",
      "weighted avg       0.58      0.58      0.58       798\n",
      "\n"
     ]
    },
    {
     "data": {
      "image/png": "[encoded data removed]",
      "text/plain": [
       "<Figure size 432x288 with 2 Axes>"
      ]
     },
     "metadata": {
      "needs_background": "light"
     },
     "output_type": "display_data"
    }
   ],
   "source": [
    "from sklearn.linear_model import LogisticRegression\n",
    "LR = LogisticRegression(C = 2 , solver = 'newton-cg')\n",
    "LR.fit(X_train,y_train)\n",
    "pred_lr = LR.predict(X_test)\n",
    "score_lr = metrics.accuracy_score(y_test, pred_lr)\n",
    "print(\"accuracy:   %f\" % score_lr)\n",
    "cm_lr = metrics.confusion_matrix(y_test, pred_lr)\n",
    "plot_confusion_matrix(cm_lr, classes=['FAKE', 'REAL'])\n",
    "print(classification_report(y_test, pred_lr))"
   ]
  },
  {
   "cell_type": "markdown",
   "metadata": {},
   "source": [
    "### Decision Tree"
   ]
  },
  {
   "cell_type": "code",
   "execution_count": 38,
   "metadata": {},
   "outputs": [
    {
     "name": "stdout",
     "output_type": "stream",
     "text": [
      "accuracy:   0.736842\n",
      "Confusion matrix, without normalization\n",
      "              precision    recall  f1-score   support\n",
      "\n",
      "           0       0.74      0.80      0.77       434\n",
      "           1       0.74      0.66      0.70       364\n",
      "\n",
      "    accuracy                           0.74       798\n",
      "   macro avg       0.74      0.73      0.73       798\n",
      "weighted avg       0.74      0.74      0.74       798\n",
      "\n"
     ]
    },
    {
     "data": {
      "image/png": "[encoded data removed]",
      "text/plain": [
       "<Figure size 432x288 with 2 Axes>"
      ]
     },
     "metadata": {
      "needs_background": "light"
     },
     "output_type": "display_data"
    }
   ],
   "source": [
    "from sklearn.tree import DecisionTreeClassifier\n",
    "DT = DecisionTreeClassifier(max_depth = None, max_leaf_nodes = None, \n",
    "                            min_samples_split = 2, min_samples_leaf = 1)\n",
    "DT.fit(X_train, y_train)\n",
    "pred_dt = DT.predict(X_test)\n",
    "score_dt = metrics.accuracy_score(y_test, pred_dt)\n",
    "print(\"accuracy:   %f\" % score_dt)\n",
    "cm_dt = metrics.confusion_matrix(y_test, pred_dt)\n",
    "plot_confusion_matrix(cm_dt, classes=['FAKE', 'REAL'])\n",
    "print(classification_report(y_test, pred_dt))"
   ]
  },
  {
   "cell_type": "markdown",
   "metadata": {},
   "source": [
    "### Random Forest"
   ]
  },
  {
   "cell_type": "code",
   "execution_count": 69,
   "metadata": {},
   "outputs": [
    {
     "name": "stdout",
     "output_type": "stream",
     "text": [
      "accuracy:   0.786967\n",
      "Confusion matrix, without normalization\n",
      "              precision    recall  f1-score   support\n",
      "\n",
      "           0       0.81      0.79      0.80       434\n",
      "           1       0.76      0.78      0.77       364\n",
      "\n",
      "    accuracy                           0.79       798\n",
      "   macro avg       0.79      0.79      0.79       798\n",
      "weighted avg       0.79      0.79      0.79       798\n",
      "\n"
     ]
    },
    {
     "data": {
      "image/png": "[encoded data removed]",
      "text/plain": [
       "<Figure size 432x288 with 2 Axes>"
      ]
     },
     "metadata": {
      "needs_background": "light"
     },
     "output_type": "display_data"
    }
   ],
   "source": [
    "from sklearn.ensemble import RandomForestClassifier\n",
    "RFC = RandomForestClassifier(n_estimators = 100, max_depth = None, min_samples_split = 2,\n",
    "                             min_samples_leaf = 1, max_leaf_nodes = None)\n",
    "RFC.fit(X_train, y_train)\n",
    "pred_rfc=RFC.predict(X_test)\n",
    "score_rfc = metrics.accuracy_score(y_test, pred_rfc)\n",
    "print(\"accuracy:   %f\" % score_rfc)\n",
    "cm_rfc = metrics.confusion_matrix(y_test, pred_rfc)\n",
    "plot_confusion_matrix(cm_rfc, classes=['FAKE', 'REAL'])\n",
    "print(classification_report(y_test, pred_rfc))"
   ]
  },
  {
   "cell_type": "markdown",
   "metadata": {},
   "source": [
    "### Support Vector Machine"
   ]
  },
  {
   "cell_type": "code",
   "execution_count": 50,
   "metadata": {},
   "outputs": [
    {
     "name": "stdout",
     "output_type": "stream",
     "text": [
      "accuracy:   0.477444\n",
      "Confusion matrix, without normalization\n",
      "              precision    recall  f1-score   support\n",
      "\n",
      "           0       0.52      0.50      0.51       434\n",
      "           1       0.43      0.45      0.44       364\n",
      "\n",
      "    accuracy                           0.48       798\n",
      "   macro avg       0.48      0.48      0.48       798\n",
      "weighted avg       0.48      0.48      0.48       798\n",
      "\n"
     ]
    },
    {
     "data": {
      "image/png": "[encoded data removed]",
      "text/plain": [
       "<Figure size 432x288 with 2 Axes>"
      ]
     },
     "metadata": {
      "needs_background": "light"
     },
     "output_type": "display_data"
    }
   ],
   "source": [
    "from sklearn import  svm\n",
    "SVM = svm.SVC(kernel='sigmoid')\n",
    "SVM.fit(X_train, y_train)\n",
    "pred_svm=SVM.predict(X_test)\n",
    "score_svm = metrics.accuracy_score(y_test, pred_svm)\n",
    "print(\"accuracy:   %f\" % score_svm)\n",
    "cm_svm = metrics.confusion_matrix(y_test, pred_svm)\n",
    "plot_confusion_matrix(cm_svm, classes=['FAKE', 'REAL'])\n",
    "print(classification_report(y_test, pred_svm))"
   ]
  },
  {
   "cell_type": "markdown",
   "metadata": {},
   "source": [
    "### ANN: MLPClassifier"
   ]
  },
  {
   "cell_type": "code",
   "execution_count": 63,
   "metadata": {},
   "outputs": [
    {
     "name": "stderr",
     "output_type": "stream",
     "text": [
      "C:\\Users\\elafa\\anaconda3\\lib\\site-packages\\sklearn\\neural_network\\_multilayer_perceptron.py:500: ConvergenceWarning: lbfgs failed to converge (status=1):\n",
      "STOP: TOTAL NO. of ITERATIONS REACHED LIMIT.\n",
      "\n",
      "Increase the number of iterations (max_iter) or scale the data as shown in:\n",
      "    https://scikit-learn.org/stable/modules/preprocessing.html\n",
      "  self.n_iter_ = _check_optimize_result(\"lbfgs\", opt_res, self.max_iter)\n"
     ]
    },
    {
     "name": "stdout",
     "output_type": "stream",
     "text": [
      "accuracy:   0.631579\n",
      "Confusion matrix, without normalization\n",
      "              precision    recall  f1-score   support\n",
      "\n",
      "           0       0.67      0.63      0.65       434\n",
      "           1       0.59      0.63      0.61       364\n",
      "\n",
      "    accuracy                           0.63       798\n",
      "   macro avg       0.63      0.63      0.63       798\n",
      "weighted avg       0.63      0.63      0.63       798\n",
      "\n"
     ]
    },
    {
     "data": {
      "image/png": "[encoded data removed]",
      "text/plain": [
       "<Figure size 432x288 with 2 Axes>"
      ]
     },
     "metadata": {
      "needs_background": "light"
     },
     "output_type": "display_data"
    }
   ],
   "source": [
    "from sklearn.neural_network import MLPClassifier\n",
    "MLPClassifierModel = MLPClassifier(activation='logistic',  solver='lbfgs', early_stopping= False,\n",
    "                                   alpha= 1 ,hidden_layer_sizes=(100))\n",
    "MLPClassifierModel.fit(X_train, y_train)\n",
    "pred_mlp=MLPClassifierModel.predict(X_test)\n",
    "score_mlp= metrics.accuracy_score(y_test, pred_mlp)\n",
    "print(\"accuracy:   %f\" % score_mlp)\n",
    "cm_mlp = metrics.confusion_matrix(y_test, pred_mlp)\n",
    "plot_confusion_matrix(cm_mlp, classes=['FAKE', 'REAL'])\n",
    "print(classification_report(y_test, pred_mlp))"
   ]
  },
  {
   "cell_type": "code",
   "execution_count": null,
   "metadata": {},
   "outputs": [],
   "source": []
  }
 ],
 "metadata": {
  "kernelspec": {
   "display_name": "Python 3",
   "language": "python",
   "name": "python3"
  },
  "language_info": {
   "codemirror_mode": {
    "name": "ipython",
    "version": 3
   },
   "file_extension": ".py",
   "mimetype": "text/x-python",
   "name": "python",
   "nbconvert_exporter": "python",
   "pygments_lexer": "ipython3",
   "version": "3.8.3"
  }
 },
 "nbformat": 4,
 "nbformat_minor": 4
}
